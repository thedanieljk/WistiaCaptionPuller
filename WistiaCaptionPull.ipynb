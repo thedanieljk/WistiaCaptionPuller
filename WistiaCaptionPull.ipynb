{
  "nbformat": 4,
  "nbformat_minor": 0,
  "metadata": {
    "colab": {
      "name": "WistiaCaptionPull.ipynb",
      "provenance": [],
      "authorship_tag": "ABX9TyNU/pNLtoTIhskY8G9YoJuT",
      "include_colab_link": true
    },
    "kernelspec": {
      "name": "python3",
      "display_name": "Python 3"
    },
    "language_info": {
      "name": "python"
    }
  },
  "cells": [
    {
      "cell_type": "markdown",
      "metadata": {
        "id": "view-in-github",
        "colab_type": "text"
      },
      "source": [
        "<a href=\"https://colab.research.google.com/github/thedanieljk/WistiaCaptionPuller/blob/main/WistiaCaptionPull.ipynb\" target=\"_parent\"><img src=\"https://colab.research.google.com/assets/colab-badge.svg\" alt=\"Open In Colab\"/></a>"
      ]
    },
    {
      "cell_type": "code",
      "source": [
        "import requests\n",
        "from bs4 import beautifulsoup as bs\n",
        "courseNum = 730712\n",
        "baseURL = https://learn.cantrill.io/courses/enrolled/"
      ],
      "metadata": {
        "id": "3mnv0brubq0C"
      },
      "execution_count": null,
      "outputs": []
    },
    {
      "cell_type": "code",
      "execution_count": null,
      "metadata": {
        "id": "dIzENp_3bZxs"
      },
      "outputs": [],
      "source": [
        "="
      ]
    }
  ]
}